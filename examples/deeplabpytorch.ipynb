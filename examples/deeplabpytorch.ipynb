{
 "cells": [
  {
   "cell_type": "code",
   "execution_count": 3,
   "metadata": {},
   "outputs": [
    {
     "name": "stdout",
     "output_type": "stream",
     "text": [
      "Device: GeForce GTX 1080 Ti\n"
     ]
    },
    {
     "data": {
      "image/png": "[encoded data removed]",
      "text/plain": [
       "<PIL.Image.Image image mode=RGB size=513x385 at 0x7F9F7F63AF98>"
      ]
     },
     "metadata": {},
     "output_type": "display_data"
    }
   ],
   "source": [
    "import sys\n",
    "sys.path.insert(0, '..') # add root to python path\n",
    "\n",
    "import eden.setup\n",
    "from eden.utils import processing, dataset\n",
    "from eden.external import deeplabpytorch\n",
    "\n",
    "eden.setup.set_external_repos_root(\"../external\")\n",
    "\n",
    "\n",
    "data = dataset.ImageLoader()\n",
    "data.load_directory('../images', 4, shuffle=True)\n",
    "img1 = data.get_image(0)\n",
    "\n",
    "deeplabpytorch.setup(deeplabpytorch.Config.cocostuff164k)\n",
    "labelmap = deeplabpytorch.run(img1['data'])\n",
    "labelmap_img = deeplabpytorch.labelmap_as_image(labelmap)\n",
    "\n",
    "processing.show(labelmap_img)"
   ]
  },
  {
   "cell_type": "code",
   "execution_count": null,
   "metadata": {},
   "outputs": [],
   "source": []
  }
 ],
 "metadata": {
  "kernelspec": {
   "display_name": "Python 3",
   "language": "python",
   "name": "python3"
  },
  "language_info": {
   "codemirror_mode": {
    "name": "ipython",
    "version": 3
   },
   "file_extension": ".py",
   "mimetype": "text/x-python",
   "name": "python",
   "nbconvert_exporter": "python",
   "pygments_lexer": "ipython3",
   "version": "3.6.8"
  }
 },
 "nbformat": 4,
 "nbformat_minor": 4
}
