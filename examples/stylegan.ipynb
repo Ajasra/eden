{
 "cells": [
  {
   "cell_type": "code",
   "execution_count": 1,
   "metadata": {},
   "outputs": [],
   "source": [
    "import sys\n",
    "sys.path.insert(0, '..')\n",
    "\n",
    "import numpy as np\n",
    "import eden.setup\n",
    "from eden.utils import processing\n",
    "from eden.external import stylegan\n",
    "\n",
    "import tensorflow as tf\n",
    "tf.logging.set_verbosity(tf.logging.ERROR)\n",
    "\n",
    "\n",
    "eden.setup.set_external_repos_root(\"../external\")\n",
    "\n"
   ]
  },
  {
   "cell_type": "markdown",
   "metadata": {},
   "source": [
    "Load checkpoint"
   ]
  },
  {
   "cell_type": "code",
   "execution_count": 2,
   "metadata": {},
   "outputs": [
    {
     "name": "stderr",
     "output_type": "stream",
     "text": [
      "Using TensorFlow backend.\n"
     ]
    },
    {
     "name": "stdout",
     "output_type": "stream",
     "text": [
      "loaded network ../external/stylegan-encoder/checkpoints/wikiarts/network-final-wikiarts.pkl\n"
     ]
    }
   ],
   "source": [
    "\n",
    "stylegan.setup('wikiarts/network-final-wikiarts.pkl')\n",
    "#stylegan.setup('https://drive.google.com/uc?id=1MEGjdvVpUsu1jB4zrXZN7Y4kBBOzizDQ')\n",
    "\n"
   ]
  },
  {
   "cell_type": "code",
   "execution_count": null,
   "metadata": {},
   "outputs": [],
   "source": [
    "# pass image flag\n",
    "#stylegan.encode(resnet='checkpoints/wikiart/finetuned_resnet_wikiart2.h5')\n",
    "\n",
    "locations = [\n",
    "    os.path.join(\"/home/bzion/projects/stylegan/stylegan-encoder\", 'latent_representations/starrynight.npy'),\n",
    "    os.path.join(\"/home/bzion/projects/stylegan/stylegan-encoder\", 'latent_representations3/girlpearl.npy'),\n",
    "    os.path.join(\"/home/bzion/projects/stylegan/stylegan-encoder\", 'latent_representations3/keefe.npy'),\n",
    "    os.path.join(\"/home/bzion/projects/stylegan/stylegan-encoder\", 'latent_representations3/monalisa1024.npy'),\n",
    "    os.path.join(\"/home/bzion/projects/stylegan/stylegan-encoder\", 'latent_representations3/scream.npy')\n",
    "]\n",
    "\n",
    "latents = stylegan.load_latents(locations)\n",
    "output = stylegan.run(latents)\n",
    "processing.show(output)\n",
    "\n",
    "\n"
   ]
  }
 ],
 "metadata": {
  "kernelspec": {
   "display_name": "Python 3",
   "language": "python",
   "name": "python3"
  },
  "language_info": {
   "codemirror_mode": {
    "name": "ipython",
    "version": 3
   },
   "file_extension": ".py",
   "mimetype": "text/x-python",
   "name": "python",
   "nbconvert_exporter": "python",
   "pygments_lexer": "ipython3",
   "version": "3.6.8"
  }
 },
 "nbformat": 4,
 "nbformat_minor": 4
}
